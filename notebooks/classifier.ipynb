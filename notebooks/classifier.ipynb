{
 "cells": [
  {
   "cell_type": "code",
   "execution_count": 23,
   "outputs": [],
   "source": [
    "import os\n",
    "import random\n",
    "import numpy as np\n",
    "import pandas as pd\n",
    "\n",
    "from PIL import Image\n",
    "from IPython.display import display\n",
    "from transformers import ViTImageProcessor, ViTForImageClassification, ViTModel"
   ],
   "metadata": {
    "collapsed": false,
    "pycharm": {
     "name": "#%%\n"
    }
   }
  },
  {
   "cell_type": "code",
   "execution_count": 24,
   "outputs": [],
   "source": [
    "train = pd.read_csv(\"../data/train.csv\")"
   ],
   "metadata": {
    "collapsed": false,
    "pycharm": {
     "name": "#%%\n"
    }
   }
  },
  {
   "cell_type": "code",
   "execution_count": 60,
   "outputs": [
    {
     "data": {
      "text/plain": "Downloading (…)rocessor_config.json:   0%|          | 0.00/160 [00:00<?, ?B/s]",
      "application/vnd.jupyter.widget-view+json": {
       "version_major": 2,
       "version_minor": 0,
       "model_id": "b0d600001c004573ab8123c6fa18356c"
      }
     },
     "metadata": {},
     "output_type": "display_data"
    },
    {
     "data": {
      "text/plain": "Downloading (…)lve/main/config.json:   0%|          | 0.00/504 [00:00<?, ?B/s]",
      "application/vnd.jupyter.widget-view+json": {
       "version_major": 2,
       "version_minor": 0,
       "model_id": "3c75bd5a568a481cad7690b0c2b6d786"
      }
     },
     "metadata": {},
     "output_type": "display_data"
    },
    {
     "data": {
      "text/plain": "Downloading pytorch_model.bin:   0%|          | 0.00/1.23G [00:00<?, ?B/s]",
      "application/vnd.jupyter.widget-view+json": {
       "version_major": 2,
       "version_minor": 0,
       "model_id": "2eb805aae36947729eb7346460d5b0de"
      }
     },
     "metadata": {},
     "output_type": "display_data"
    },
    {
     "data": {
      "text/plain": "Downloading (…)rocessor_config.json:   0%|          | 0.00/160 [00:00<?, ?B/s]",
      "application/vnd.jupyter.widget-view+json": {
       "version_major": 2,
       "version_minor": 0,
       "model_id": "88c025c8818a4327a15d9179993e7629"
      }
     },
     "metadata": {},
     "output_type": "display_data"
    },
    {
     "data": {
      "text/plain": "Downloading (…)lve/main/config.json:   0%|          | 0.00/69.7k [00:00<?, ?B/s]",
      "application/vnd.jupyter.widget-view+json": {
       "version_major": 2,
       "version_minor": 0,
       "model_id": "ce443a05b0f2437d9ad4616c46535c4c"
      }
     },
     "metadata": {},
     "output_type": "display_data"
    },
    {
     "data": {
      "text/plain": "Downloading pytorch_model.bin:   0%|          | 0.00/1.23G [00:00<?, ?B/s]",
      "application/vnd.jupyter.widget-view+json": {
       "version_major": 2,
       "version_minor": 0,
       "model_id": "9de8fb8060c74418bc16c0522b339b55"
      }
     },
     "metadata": {},
     "output_type": "display_data"
    }
   ],
   "source": [
    "processor = ViTImageProcessor.from_pretrained('google/vit-large-patch32-224-in21k')\n",
    "model = ViTModel.from_pretrained('google/vit-large-patch32-224-in21k')\n",
    "\n",
    "classification_processor = ViTImageProcessor.from_pretrained('google/vit-large-patch32-384')\n",
    "classification_model = ViTForImageClassification.from_pretrained('google/vit-large-patch32-384')"
   ],
   "metadata": {
    "collapsed": false,
    "pycharm": {
     "name": "#%%\n"
    }
   }
  },
  {
   "cell_type": "code",
   "execution_count": 61,
   "outputs": [],
   "source": [
    "def get_random_pair(df: pd.DataFrame):\n",
    "    row_index = random.randint(0, len(df))\n",
    "    path1 = df.iloc[row_index, df.columns.get_loc(\"image_url1\")]\n",
    "    path2 = df.iloc[row_index, df.columns.get_loc(\"image_url2\")]\n",
    "    label = df.iloc[row_index, df.columns.get_loc(\"is_same\")]\n",
    "\n",
    "    path1 = os.path.join(\"..\", \"data\", \"images\", path1.split(\"/\")[-1])\n",
    "    path2 = os.path.join(\"..\", \"data\", \"images\", path2.split(\"/\")[-1])\n",
    "\n",
    "    image1 = Image.open(path1)\n",
    "    image2 = Image.open(path2)\n",
    "\n",
    "    return image1, image2, label"
   ],
   "metadata": {
    "collapsed": false,
    "pycharm": {
     "name": "#%%\n"
    }
   }
  },
  {
   "cell_type": "code",
   "execution_count": 62,
   "outputs": [],
   "source": [
    "def test(df):\n",
    "    image1, image2, label = get_random_pair(df)\n",
    "\n",
    "    inputs1 = processor(images=image1, return_tensors=\"pt\")\n",
    "    inputs2 = processor(images=image2, return_tensors=\"pt\")\n",
    "    outputs1 = model(**inputs1)\n",
    "    outputs2 = model(**inputs2)\n",
    "    tensor1 = outputs1.last_hidden_state.detach().numpy()\n",
    "    tensor2 = outputs2.last_hidden_state.detach().numpy()\n",
    "\n",
    "    euclidean_similarity = np.linalg.norm(tensor1 - tensor2)\n",
    "    cosine_similarity = np.dot(tensor1.flatten(), tensor2.flatten()) / (np.linalg.norm(tensor1) * np.linalg.norm(tensor2))\n",
    "    dot_similarity = np.sum(tensor1 * tensor2)\n",
    "\n",
    "    return image1, image2, label, euclidean_similarity, cosine_similarity, dot_similarity"
   ],
   "metadata": {
    "collapsed": false,
    "pycharm": {
     "name": "#%%\n"
    }
   }
  },
  {
   "cell_type": "code",
   "execution_count": 63,
   "outputs": [],
   "source": [
    "def test2(df):\n",
    "    image1, image2, label = get_random_pair(df)\n",
    "\n",
    "    inputs1 = classification_processor(images=image1, return_tensors=\"pt\")\n",
    "    inputs2 = classification_processor(images=image2, return_tensors=\"pt\")\n",
    "    outputs1 = classification_model(**inputs1)\n",
    "    outputs2 = classification_model(**inputs2)\n",
    "    tensor1 = outputs1.logits.detach().numpy()\n",
    "    tensor2 = outputs2.logits.detach().numpy()\n",
    "\n",
    "    euclidean_similarity = np.linalg.norm(tensor1 - tensor2)\n",
    "    cosine_similarity = np.dot(tensor1.flatten(), tensor2.flatten()) / (np.linalg.norm(tensor1) * np.linalg.norm(tensor2))\n",
    "    dot_similarity = np.sum(tensor1 * tensor2)\n",
    "\n",
    "    return image1, image2, label, euclidean_similarity, cosine_similarity, dot_similarity"
   ],
   "metadata": {
    "collapsed": false,
    "pycharm": {
     "name": "#%%\n"
    }
   }
  },
  {
   "cell_type": "code",
   "execution_count": 64,
   "outputs": [],
   "source": [
    "def save_test_results(df, number):\n",
    "    result_columns = ['label', 'euclidean_similarity', 'cosine_similarity', 'dot_similarity']\n",
    "    result_data = []\n",
    "\n",
    "    for i in range(number):\n",
    "        image1, image2, label, euclidean_similarity, cosine_similarity, dot_similarity = test2(df)\n",
    "        result_data.append([ label, euclidean_similarity, cosine_similarity, dot_similarity])\n",
    "\n",
    "    result_df = pd.DataFrame(result_data, columns=result_columns)\n",
    "    return result_df"
   ],
   "metadata": {
    "collapsed": false,
    "pycharm": {
     "name": "#%%\n"
    }
   }
  },
  {
   "cell_type": "code",
   "execution_count": 65,
   "outputs": [
    {
     "data": {
      "text/plain": "   label  euclidean_similarity  cosine_similarity  dot_similarity\n0      0             34.877274           0.671250     1235.877441\n1      0             33.597183           0.732970     1492.023071\n2      1              0.000000           1.000000     2039.595337\n3      1              0.477496           0.999938     1622.979492\n4      0             33.665638           0.711089     1350.064941\n5      0             27.940718           0.791423     1450.228027\n6      0             23.031408           0.855501     1556.840820\n7      1              7.106678           0.983108     1438.709229\n8      0             31.874458           0.468731      446.969482\n9      0             31.080542           0.696917     1106.031250",
      "text/html": "<div>\n<style scoped>\n    .dataframe tbody tr th:only-of-type {\n        vertical-align: middle;\n    }\n\n    .dataframe tbody tr th {\n        vertical-align: top;\n    }\n\n    .dataframe thead th {\n        text-align: right;\n    }\n</style>\n<table border=\"1\" class=\"dataframe\">\n  <thead>\n    <tr style=\"text-align: right;\">\n      <th></th>\n      <th>label</th>\n      <th>euclidean_similarity</th>\n      <th>cosine_similarity</th>\n      <th>dot_similarity</th>\n    </tr>\n  </thead>\n  <tbody>\n    <tr>\n      <th>0</th>\n      <td>0</td>\n      <td>34.877274</td>\n      <td>0.671250</td>\n      <td>1235.877441</td>\n    </tr>\n    <tr>\n      <th>1</th>\n      <td>0</td>\n      <td>33.597183</td>\n      <td>0.732970</td>\n      <td>1492.023071</td>\n    </tr>\n    <tr>\n      <th>2</th>\n      <td>1</td>\n      <td>0.000000</td>\n      <td>1.000000</td>\n      <td>2039.595337</td>\n    </tr>\n    <tr>\n      <th>3</th>\n      <td>1</td>\n      <td>0.477496</td>\n      <td>0.999938</td>\n      <td>1622.979492</td>\n    </tr>\n    <tr>\n      <th>4</th>\n      <td>0</td>\n      <td>33.665638</td>\n      <td>0.711089</td>\n      <td>1350.064941</td>\n    </tr>\n    <tr>\n      <th>5</th>\n      <td>0</td>\n      <td>27.940718</td>\n      <td>0.791423</td>\n      <td>1450.228027</td>\n    </tr>\n    <tr>\n      <th>6</th>\n      <td>0</td>\n      <td>23.031408</td>\n      <td>0.855501</td>\n      <td>1556.840820</td>\n    </tr>\n    <tr>\n      <th>7</th>\n      <td>1</td>\n      <td>7.106678</td>\n      <td>0.983108</td>\n      <td>1438.709229</td>\n    </tr>\n    <tr>\n      <th>8</th>\n      <td>0</td>\n      <td>31.874458</td>\n      <td>0.468731</td>\n      <td>446.969482</td>\n    </tr>\n    <tr>\n      <th>9</th>\n      <td>0</td>\n      <td>31.080542</td>\n      <td>0.696917</td>\n      <td>1106.031250</td>\n    </tr>\n  </tbody>\n</table>\n</div>"
     },
     "execution_count": 65,
     "metadata": {},
     "output_type": "execute_result"
    }
   ],
   "source": [
    "result_dataframe = save_test_results(train, number=10)\n",
    "result_dataframe"
   ],
   "metadata": {
    "collapsed": false,
    "pycharm": {
     "name": "#%%\n"
    }
   }
  },
  {
   "cell_type": "code",
   "execution_count": 66,
   "outputs": [
    {
     "data": {
      "text/plain": "   label  euclidean_similarity  cosine_similarity  dot_similarity\n0      1              0.000000           1.000000     2277.552002\n1      1              0.000000           1.000000      893.115234\n2      0             33.557167           0.664662     1115.984131\n3      0             36.466961           0.677999     1385.994629\n4      0             25.505917           0.757273     1007.293457\n5      0             22.014118           0.847910     1230.350830\n6      0             32.681847           0.659912     1005.107056\n7      0             38.466099           0.715483     1314.044434\n8      1              0.414023           0.999938     1369.157471\n9      0             34.889606           0.668951     1022.654053",
      "text/html": "<div>\n<style scoped>\n    .dataframe tbody tr th:only-of-type {\n        vertical-align: middle;\n    }\n\n    .dataframe tbody tr th {\n        vertical-align: top;\n    }\n\n    .dataframe thead th {\n        text-align: right;\n    }\n</style>\n<table border=\"1\" class=\"dataframe\">\n  <thead>\n    <tr style=\"text-align: right;\">\n      <th></th>\n      <th>label</th>\n      <th>euclidean_similarity</th>\n      <th>cosine_similarity</th>\n      <th>dot_similarity</th>\n    </tr>\n  </thead>\n  <tbody>\n    <tr>\n      <th>0</th>\n      <td>1</td>\n      <td>0.000000</td>\n      <td>1.000000</td>\n      <td>2277.552002</td>\n    </tr>\n    <tr>\n      <th>1</th>\n      <td>1</td>\n      <td>0.000000</td>\n      <td>1.000000</td>\n      <td>893.115234</td>\n    </tr>\n    <tr>\n      <th>2</th>\n      <td>0</td>\n      <td>33.557167</td>\n      <td>0.664662</td>\n      <td>1115.984131</td>\n    </tr>\n    <tr>\n      <th>3</th>\n      <td>0</td>\n      <td>36.466961</td>\n      <td>0.677999</td>\n      <td>1385.994629</td>\n    </tr>\n    <tr>\n      <th>4</th>\n      <td>0</td>\n      <td>25.505917</td>\n      <td>0.757273</td>\n      <td>1007.293457</td>\n    </tr>\n    <tr>\n      <th>5</th>\n      <td>0</td>\n      <td>22.014118</td>\n      <td>0.847910</td>\n      <td>1230.350830</td>\n    </tr>\n    <tr>\n      <th>6</th>\n      <td>0</td>\n      <td>32.681847</td>\n      <td>0.659912</td>\n      <td>1005.107056</td>\n    </tr>\n    <tr>\n      <th>7</th>\n      <td>0</td>\n      <td>38.466099</td>\n      <td>0.715483</td>\n      <td>1314.044434</td>\n    </tr>\n    <tr>\n      <th>8</th>\n      <td>1</td>\n      <td>0.414023</td>\n      <td>0.999938</td>\n      <td>1369.157471</td>\n    </tr>\n    <tr>\n      <th>9</th>\n      <td>0</td>\n      <td>34.889606</td>\n      <td>0.668951</td>\n      <td>1022.654053</td>\n    </tr>\n  </tbody>\n</table>\n</div>"
     },
     "execution_count": 66,
     "metadata": {},
     "output_type": "execute_result"
    }
   ],
   "source": [
    "result_dataframe = save_test_results(train, number=10)\n",
    "result_dataframe"
   ],
   "metadata": {
    "collapsed": false,
    "pycharm": {
     "name": "#%%\n"
    }
   }
  },
  {
   "cell_type": "code",
   "execution_count": null,
   "outputs": [],
   "source": [],
   "metadata": {
    "collapsed": false,
    "pycharm": {
     "name": "#%%\n"
    }
   }
  }
 ],
 "metadata": {
  "kernelspec": {
   "display_name": "Python 3",
   "language": "python",
   "name": "python3"
  },
  "language_info": {
   "codemirror_mode": {
    "name": "ipython",
    "version": 2
   },
   "file_extension": ".py",
   "mimetype": "text/x-python",
   "name": "python",
   "nbconvert_exporter": "python",
   "pygments_lexer": "ipython2",
   "version": "2.7.6"
  }
 },
 "nbformat": 4,
 "nbformat_minor": 0
}